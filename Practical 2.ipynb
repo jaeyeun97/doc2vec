{
 "cells": [
  {
   "cell_type": "code",
   "execution_count": 1,
   "metadata": {
    "scrolled": true
   },
   "outputs": [],
   "source": [
    "import os, glob\n",
    "from smart_open import smart_open\n",
    "from gensim.utils import tokenize as _tokenize\n",
    "from collections import namedtuple, OrderedDict\n",
    "import re\n",
    "\n",
    "dataDir = 'aclImdb'\n",
    "\n",
    "if not os.path.isdir(dataDir):\n",
    "    raise Exception('Download Data')\n",
    "\n",
    "folders = ['train', 'test']\n",
    "sentiments = OrderedDict({'pos': 1, 'neg': -1, 'unsup': 0})\n",
    "\n",
    "SentimentDocument = namedtuple('SentimentDocument', 'words tags movie_id rating sentiment')\n",
    "\n",
    "filename_matcher = re.compile(r'(.*)_(.*).txt')\n",
    "\n",
    "# return generator of lines for a file\n",
    "def read(fn):\n",
    "    with smart_open(fn, 'rb') as f:\n",
    "        # for l in f:\n",
    "        #    yield l.decode('utf-8')\n",
    "        return f.read().decode('utf-8')\n",
    "\n",
    "def getIDandRating(fn):\n",
    "    p = filename_matcher.match(os.path.basename(fn))\n",
    "    return int(p.group(1)), int(p.group(2))\n",
    "\n",
    "# Generator of generators\n",
    "def flatMap(ls, func=lambda x: x):\n",
    "    return (func(i) for l in ls for i in l)\n",
    "\n",
    "# generator of lines -> generator of tokens\n",
    "def tokenize(line):\n",
    "    return (token for token in _tokenize(line, lowercase=True, deacc=True))\n",
    "\n",
    "urlmatcher = re.compile(r\"http://www.imdb.com/title/(.*)/usercomments\")\n",
    "\n",
    "def genFiles():\n",
    "    for d in folders:\n",
    "        for s, si in sentiments.items():\n",
    "            if not os.path.isdir(\"{}/{}/{}\".format(dataDir, d, s)): continue\n",
    "            filelist = glob.glob(\"{}/{}/{}/*.txt\".format(dataDir, d, s))\n",
    "            fileSet = [(*getIDandRating(fn), fn) for fn in filelist]\n",
    "            fileSet.sort(key=lambda t: t[0])\n",
    "            with smart_open(\"{}/{}/urls_{}.txt\".format(dataDir, d, s), 'r') as urlfile:\n",
    "                movie_ids = (urlmatcher.match(url).group(1) for url in urlfile)\n",
    "                for movie_id, (fid, rating, f) in zip(movie_ids, fileSet):\n",
    "                    yield si, movie_id, rating, f\n",
    "\n",
    "# gen of gen of tokens\n",
    "tokenLists = ((s, movie_id, rating, tokenize(read(f))) for s, movie_id, rating, f in genFiles())"
   ]
  },
  {
   "cell_type": "code",
   "execution_count": 2,
   "metadata": {},
   "outputs": [
    {
     "name": "stdout",
     "output_type": "stream",
     "text": [
      "data file exists\n",
      "CPU times: user 1.67 ms, sys: 163 µs, total: 1.84 ms\n",
      "Wall time: 87 µs\n"
     ]
    }
   ],
   "source": [
    "%%time\n",
    "\n",
    "if not os.path.isfile('all_data.txt'):\n",
    "    with smart_open('all_data.txt', 'wb') as f:\n",
    "        for s, movie_id, rating, tl in tokenLists:\n",
    "            f.write('{} {} {} {}\\n'.format(s, movie_id, rating, ' '.join(tl)).encode('utf-8'))\n",
    "else:\n",
    "    print('data file exists')"
   ]
  },
  {
   "cell_type": "code",
   "execution_count": 3,
   "metadata": {},
   "outputs": [
    {
     "name": "stdout",
     "output_type": "stream",
     "text": [
      "CPU times: user 2.09 s, sys: 277 ms, total: 2.36 s\n",
      "Wall time: 2.18 s\n"
     ]
    }
   ],
   "source": [
    "%%time\n",
    "# from random import shuffle\n",
    "\n",
    "# docs\n",
    "allDocs = []\n",
    "with smart_open('all_data.txt', 'rb') as f:\n",
    "    for i, line in enumerate(f):\n",
    "        l = line.decode('utf-8').split()\n",
    "        allDocs.append(SentimentDocument(l[3:], [i], l[1], int(l[2]), int(l[0])))\n",
    "        \n",
    "# shuffle(allDocs)"
   ]
  },
  {
   "cell_type": "code",
   "execution_count": 4,
   "metadata": {
    "scrolled": true
   },
   "outputs": [],
   "source": [
    "import multiprocessing\n",
    "\n",
    "cpuCount = multiprocessing.cpu_count()"
   ]
  },
  {
   "cell_type": "markdown",
   "metadata": {},
   "source": [
    "**Models**\n",
    "Fix vector size to 100, and min_count (cutoff) to 3 (as per the Pang&Lee). \n",
    "\n",
    "For each model, ID string = \"model:window_size:epoch\", and store the model to a file."
   ]
  },
  {
   "cell_type": "code",
   "execution_count": 5,
   "metadata": {},
   "outputs": [],
   "source": [
    "from gensim.models.doc2vec import Doc2Vec\n",
    "from gensim.test.test_doc2vec import ConcatenatedDoc2Vec\n",
    "\n",
    "archs = ['dbow', 'dmm', 'dmc', 'dbow+dmm', 'dbow+dmc']\n",
    "ws = [8, 12]\n",
    "vs = 100\n",
    "mc = 3\n",
    "s = 0\n",
    "es = [10, 20]\n",
    "\n",
    "readModels = OrderedDict()\n",
    "\n",
    "def getIDstr(arch, w, e):\n",
    "    return \"{}:{}:{}\".format(arch, w, e)\n",
    "\n",
    "def genIDstrs():\n",
    "    for w in ws:\n",
    "        for e in es:\n",
    "            for arch in archs:\n",
    "                yield getIDstr(arch, w, e)\n",
    "\n",
    "def createModel(idstr):\n",
    "    ids = idstr.split(':')\n",
    "    w = int(ids[1])\n",
    "    e = int(ids[2])\n",
    "    if ids[0] == 'dbow':\n",
    "        return Doc2Vec(dm=0, window=w, vector_size=vs, min_count=mc, sample=s, epochs=e, workers=cpuCount)\n",
    "    elif ids[0] == 'dmm':\n",
    "        return Doc2Vec(dm=1, window=w, vector_size=vs, min_count=mc, sample=s, epochs=e, alpha=0.05, comment='alpha=0.05', workers=cpuCount)\n",
    "    elif ids[0] == 'dmc':\n",
    "        return Doc2Vec(dm=1, dm_concat=1, window=w//2, vector_size=vs, sample=s, min_count=mc, epochs=e, workers=cpuCount)\n",
    "    else:\n",
    "        raise Exception('arch does not exist')\n",
    "\n",
    "def createConcatModel(idstr):\n",
    "    ids = idstr.split(':')\n",
    "    w = int(ids[1])\n",
    "    e = int(ids[2])\n",
    "    return ConcatenatedDoc2Vec([getModel(getIDstr(arch, w, e)) for arch in ids[0].split('+')])\n",
    "\n",
    "def getModel(idstr):\n",
    "    if idstr in readModels:\n",
    "        return readModels[idstr]\n",
    "    f = os.path.abspath('models/{}'.format(idstr))\n",
    "    if os.path.isfile(f):\n",
    "        print('loading model {} from file'.format(idstr))\n",
    "        model = Doc2Vec.load(f)\n",
    "    elif '+' in idstr:\n",
    "        print('creating concat model {}'.format(idstr))\n",
    "        model = createConcatModel(idstr)\n",
    "    else:     \n",
    "        print('creating {}'.format(idstr))\n",
    "        model = createModel(idstr)\n",
    "        model.build_vocab(allDocs)\n",
    "        print('training {}'.format(idstr))\n",
    "        model.train(allDocs, total_examples=len(allDocs), epochs=model.epochs)\n",
    "        print('saving {}'.format(idstr))\n",
    "        model.save(f)\n",
    "    readModels[idstr] = model\n",
    "    return model"
   ]
  },
  {
   "cell_type": "code",
   "execution_count": 6,
   "metadata": {},
   "outputs": [
    {
     "name": "stdout",
     "output_type": "stream",
     "text": [
      "creating dbow:8:10\n",
      "training dbow:8:10\n",
      "saving dbow:8:10\n",
      "creating dmm:8:10\n",
      "training dmm:8:10\n",
      "saving dmm:8:10\n",
      "creating dmc:8:10\n",
      "training dmc:8:10\n",
      "saving dmc:8:10\n",
      "creating concat model dbow+dmm:8:10\n",
      "creating concat model dbow+dmc:8:10\n",
      "creating dbow:8:20\n",
      "training dbow:8:20\n",
      "saving dbow:8:20\n",
      "creating dmm:8:20\n",
      "training dmm:8:20\n",
      "saving dmm:8:20\n",
      "creating dmc:8:20\n",
      "training dmc:8:20\n",
      "saving dmc:8:20\n",
      "creating concat model dbow+dmm:8:20\n",
      "creating concat model dbow+dmc:8:20\n",
      "creating dbow:12:10\n",
      "training dbow:12:10\n",
      "saving dbow:12:10\n",
      "creating dmm:12:10\n",
      "training dmm:12:10\n",
      "saving dmm:12:10\n",
      "creating dmc:12:10\n",
      "training dmc:12:10\n",
      "saving dmc:12:10\n",
      "creating concat model dbow+dmm:12:10\n",
      "creating concat model dbow+dmc:12:10\n",
      "creating dbow:12:20\n",
      "training dbow:12:20\n",
      "saving dbow:12:20\n",
      "creating dmm:12:20\n",
      "training dmm:12:20\n",
      "saving dmm:12:20\n",
      "creating dmc:12:20\n",
      "training dmc:12:20\n",
      "saving dmc:12:20\n",
      "creating concat model dbow+dmm:12:20\n",
      "creating concat model dbow+dmc:12:20\n",
      "CPU times: user 5h 5min 47s, sys: 1min 51s, total: 5h 7min 39s\n",
      "Wall time: 47min 19s\n"
     ]
    }
   ],
   "source": [
    "%%time\n",
    "\n",
    "models = [getModel(idstr) for idstr in genIDstrs()]"
   ]
  },
  {
   "cell_type": "code",
   "execution_count": 7,
   "metadata": {},
   "outputs": [],
   "source": [
    "from itertools import islice\n",
    "\n",
    "# Get first 2000\n",
    "posDocs = (doc for doc in allDocs if doc.sentiment == 1)\n",
    "negDocs = (doc for doc in allDocs if doc.sentiment == -1)\n",
    "\n",
    "def splitH(docs):\n",
    "    folds = tuple(docs[i::10] for i in range(10))\n",
    "    return folds[0], [doc for docs in folds[1:] for doc in docs]\n",
    "\n",
    "posVC, posRest = splitH(list(islice(posDocs, 1000)))\n",
    "negVC, negRest = splitH(list(islice(negDocs, 1000)))\n",
    "\n",
    "vc = posVC + negVC\n",
    "rest = posRest + negRest\n",
    "\n",
    "def splitV(docs):\n",
    "    return [doc.words for doc in docs], [doc.sentiment for doc in docs]"
   ]
  },
  {
   "cell_type": "markdown",
   "metadata": {},
   "source": [
    "# Permutation Testing"
   ]
  },
  {
   "cell_type": "code",
   "execution_count": 8,
   "metadata": {},
   "outputs": [],
   "source": [
    "def yesOrNo(actual, results):\n",
    "    assert len(actual) == len(results)\n",
    "    return [1 if actual[i] == results[i] else 0 for i in range(len(actual))]\n",
    "\n",
    "def permTest(xs, ys, r):\n",
    "    n = len(xs)\n",
    "    diff = np.abs(np.mean(xs) - np.mean(ys))\n",
    "    k = 1\n",
    "    for i in range(r):\n",
    "        rands = np.random.rand(n)\n",
    "        gx, gy = zip(*tuple(((x, y) if rand >= 0.5 else (y, x)) for rand, x, y in zip(rands, xs, ys)))\n",
    "        k += diff <= np.abs(np.mean(gx) - np.mean(gy))\n",
    "    return k / (r + 1)"
   ]
  },
  {
   "cell_type": "code",
   "execution_count": 18,
   "metadata": {},
   "outputs": [
    {
     "name": "stdout",
     "output_type": "stream",
     "text": [
      "Training svm for dbow:8:10\n",
      "Evaluating svm for dbow:8:10\n",
      "Score: 0.875\n",
      "Training svm for dmm:8:10\n",
      "Evaluating svm for dmm:8:10\n",
      "Score: 0.83\n",
      "Training svm for dmc:8:10\n",
      "Evaluating svm for dmc:8:10\n",
      "Score: 0.645\n",
      "Training svm for dbow+dmm:8:10\n",
      "Evaluating svm for dbow+dmm:8:10\n",
      "Score: 0.895\n",
      "Training svm for dbow+dmc:8:10\n",
      "Evaluating svm for dbow+dmc:8:10\n",
      "Score: 0.82\n",
      "Training svm for dbow:8:20\n",
      "Evaluating svm for dbow:8:20\n",
      "Score: 0.875\n",
      "Training svm for dmm:8:20\n",
      "Evaluating svm for dmm:8:20\n",
      "Score: 0.815\n",
      "Training svm for dmc:8:20\n",
      "Evaluating svm for dmc:8:20\n",
      "Score: 0.71\n",
      "Training svm for dbow+dmm:8:20\n",
      "Evaluating svm for dbow+dmm:8:20\n",
      "Score: 0.865\n",
      "Training svm for dbow+dmc:8:20\n",
      "Evaluating svm for dbow+dmc:8:20\n",
      "Score: 0.815\n",
      "Training svm for dbow:12:10\n",
      "Evaluating svm for dbow:12:10\n",
      "Score: 0.88\n",
      "Training svm for dmm:12:10\n",
      "Evaluating svm for dmm:12:10\n",
      "Score: 0.86\n",
      "Training svm for dmc:12:10\n",
      "Evaluating svm for dmc:12:10\n",
      "Score: 0.6\n",
      "Training svm for dbow+dmm:12:10\n",
      "Evaluating svm for dbow+dmm:12:10\n",
      "Score: 0.855\n",
      "Training svm for dbow+dmc:12:10\n",
      "Evaluating svm for dbow+dmc:12:10\n",
      "Score: 0.815\n",
      "Training svm for dbow:12:20\n",
      "Evaluating svm for dbow:12:20\n",
      "Score: 0.87\n",
      "Training svm for dmm:12:20\n",
      "Evaluating svm for dmm:12:20\n",
      "Score: 0.85\n",
      "Training svm for dmc:12:20\n",
      "Evaluating svm for dmc:12:20\n",
      "Score: 0.71\n",
      "Training svm for dbow+dmm:12:20\n",
      "Evaluating svm for dbow+dmm:12:20\n",
      "Score: 0.85\n",
      "Training svm for dbow+dmc:12:20\n",
      "Evaluating svm for dbow+dmc:12:20\n",
      "Score: 0.85\n",
      "CPU times: user 1min 57s, sys: 2.1 s, total: 1min 59s\n",
      "Wall time: 1min 50s\n"
     ]
    }
   ],
   "source": [
    "%%time\n",
    "\n",
    "import numpy as np\n",
    "from svm import Doc2VecSVM\n",
    "\n",
    "initialSVMs = OrderedDict((name, Doc2VecSVM(getModel(name))) for name in genIDstrs())\n",
    "results = dict()\n",
    "\n",
    "rest_X, rest_y = splitV(rest)\n",
    "vc_X, vc_y = splitV(vc)\n",
    "\n",
    "for name, svm in initialSVMs.items():\n",
    "    print('Training svm for {}'.format(name))\n",
    "    svm.fit(rest_X, rest_y)\n",
    "    print('Evaluating svm for {}'.format(name))\n",
    "    pred = svm.predict(vc_X)\n",
    "    result = yesOrNo(vc_y, pred)\n",
    "    results[name] = result\n",
    "    print('Score: {}'.format(np.mean(result)))"
   ]
  },
  {
   "cell_type": "code",
   "execution_count": 19,
   "metadata": {},
   "outputs": [
    {
     "name": "stdout",
     "output_type": "stream",
     "text": [
      "dbow:8:20 1.0\n",
      "dbow:12:10 0.8274345130973805\n",
      "dmm:12:20 0.5936812637472505\n",
      "dmc:12:20 0.0001999600079984003\n",
      "dbow+dmm:12:20 0.5338932213557288\n",
      "dbow+dmc:12:20 0.5016996600679864\n"
     ]
    }
   ],
   "source": [
    "basecase = results['dbow:12:20']\n",
    "\n",
    "for name in ['dbow:8:20', 'dbow:12:10', 'dmm:12:20', 'dmc:12:20', 'dbow+dmm:12:20', 'dbow+dmc:12:20']:\n",
    "    p = permTest(basecase, results[name], 5000)\n",
    "    print('{} {}'.format(name, p))"
   ]
  },
  {
   "cell_type": "markdown",
   "metadata": {},
   "source": [
    "# Step 2"
   ]
  },
  {
   "cell_type": "markdown",
   "metadata": {},
   "source": [
    "# Cross Validation"
   ]
  },
  {
   "cell_type": "code",
   "execution_count": 20,
   "metadata": {
    "scrolled": true
   },
   "outputs": [
    {
     "name": "stdout",
     "output_type": "stream",
     "text": [
      "Fold 1\n",
      "Fold 2\n",
      "Fold 3\n",
      "Fold 4\n",
      "Fold 5\n",
      "Fold 6\n",
      "Fold 7\n",
      "Fold 8\n",
      "Fold 9\n",
      "Fold 10\n",
      "0.8738888888888889\n",
      "0.7883333333333333\n",
      "0.0001999600079984003\n"
     ]
    }
   ],
   "source": [
    "from bag import BagOfFrequency\n",
    "from svm import NaiveSVM\n",
    "from sklearn.metrics import accuracy_score\n",
    "\n",
    "\n",
    "def runSVM(svm, train_X, train_y, test_X):\n",
    "    svm.fit(train_X, train_y)\n",
    "    return svm.predict(test_X)\n",
    "\n",
    "\n",
    "# Cross Validation\n",
    "\n",
    "newPredict = []\n",
    "prevPredict = []\n",
    "actual = []\n",
    "\n",
    "folds = tuple(rest[i::10] for i in range(10))\n",
    "\n",
    "for i in range(10):\n",
    "    print('Fold {}'.format(i+1))\n",
    "    test = folds[i]\n",
    "    train = [doc for j in range(10) for doc in folds[j] if j != i]\n",
    "    train_X, train_y = splitV(train)\n",
    "    test_X, test_y = splitV(test)\n",
    "    \n",
    "    newSVM = Doc2VecSVM(getModel('dbow:12:20'))\n",
    "    prevSVM = NaiveSVM(BagOfFrequency, {1}, 3)\n",
    "    nr = runSVM(newSVM, train_X, train_y, test_X)\n",
    "    pr = runSVM(prevSVM, train_X, train_y, test_X)\n",
    "    newPredict.extend(nr)\n",
    "    prevPredict.extend(pr)\n",
    "    actual.extend(test_y)\n",
    "    \n",
    "newScore = accuracy_score(actual, newPredict)\n",
    "prevScore = accuracy_score(actual, prevPredict)\n",
    "\n",
    "print(newScore)\n",
    "print(prevScore)\n",
    "\n",
    "new = yesOrNo(actual, newPredict)\n",
    "prev = yesOrNo(actual, prevPredict)\n",
    "\n",
    "p = permTest(new, prev, 5000)\n",
    "print(p)"
   ]
  },
  {
   "cell_type": "markdown",
   "metadata": {},
   "source": [
    "# Good Science"
   ]
  },
  {
   "cell_type": "markdown",
   "metadata": {},
   "source": [
    "# Visualisation"
   ]
  },
  {
   "cell_type": "code",
   "execution_count": null,
   "metadata": {},
   "outputs": [],
   "source": [
    "# # Get TSVs for projector.tensorflow.org\n",
    "# \n",
    "# model = getModel('dbow+dmm:10:20')\n",
    "# docstrs = (doc2str(model, doc) for doc in allDocs if doc.rating != 0)\n",
    "# \n",
    "# lookup = dict()\n",
    "# cnt = 0\n",
    "# with smart_open('vecstr.tsv', 'w') as v:\n",
    "#     with smart_open('metastr.tsv', 'w') as m:\n",
    "#         m.write('tags\\tmovie_id\\trating\\tsentiment\\n')\n",
    "#         for doc in allDocs:\n",
    "#             if doc.rating != 0:\n",
    "#                 if doc.movie_id not in lookup:\n",
    "#                     lookup[doc.movie_id] = cnt\n",
    "#                     cnt += 1\n",
    "#                 v.write(\"\\t\".join(str(vec) for vec in model.docvecs[doc.tags[0]]))\n",
    "#                 v.write('\\n')\n",
    "#                 m.write('{}\\t{}\\t{}\\t{}\\n'.format(doc.tags[0], lookup[doc.movie_id], doc.rating, doc.sentiment))"
   ]
  },
  {
   "cell_type": "markdown",
   "metadata": {},
   "source": [
    "## Comparing documents of the same rating"
   ]
  },
  {
   "cell_type": "code",
   "execution_count": null,
   "metadata": {},
   "outputs": [],
   "source": [
    "##### Filter documents by same sentiment and movie_id\n",
    "# from itertools import groupby\n",
    "\n",
    "# testDocs = ((k, g) for k, g in groupby(allDocs, lambda doc: doc.movie_id))\n",
    "# testDocs = ((mid, k, list(g)) for mid, docs in testDocs for k, g in groupby(docs, lambda doc: doc.rating))\n",
    "\n",
    "# model = getModel('dbow:10:20')\n",
    "# docvecs = model.docvecs\n",
    "# for mid, rating, docs in testDocs:\n",
    "#    tags = [doc.tags[0] for doc in docs]\n",
    "#    arr = np.fromiter((docvecs.similarity(t1, t2) for t1 in tags for t2 in tags if t1 != t2), float)\n",
    "#    if len(arr) > 0:\n",
    "#        avg = np.average(arr)\n",
    "#        print(avg)\n",
    "        "
   ]
  },
  {
   "cell_type": "code",
   "execution_count": null,
   "metadata": {},
   "outputs": [],
   "source": [
    "#testDocs: movie_id -> rating -> docs\n",
    "#easier to read\n",
    "#findDocs = dict(((mid, rating), docs) for mid, mdocs in testDocs.items() for rating, docs in mdocs.items() if len(docs) > 10)\n",
    "#(mid, rating), checkDocs = findDocs.popitem()\n",
    "#print(mid, rating)\n",
    "#tags = [doc.tags[0] for doc in checkDocs]\n",
    "#print(\" \".join(str(tag-(75000+12500)) for tag in tags))\n"
   ]
  },
  {
   "cell_type": "code",
   "execution_count": null,
   "metadata": {},
   "outputs": [],
   "source": [
    "# load genre data\n",
    "# movie_ids = frozenset(doc.movie_id for doc in allDocs)\n",
    "# genres = dict()\n",
    "# genre_count = 0\n",
    "\n",
    "# with smart_open('genres.tsv', 'w') as w:\n",
    "#    with smart_open('title.basics.tsv', 'r') as f:\n",
    "#        fields = f.readline()\n",
    "#        for line in f:\n",
    "#            items = line.split('\\t')\n",
    "#            movie_id = items[0]\n",
    "#            if movie_id in movie_ids:\n",
    "#                w.write('{}\\t{}'.format(movie_id, items[-1]))"
   ]
  },
  {
   "cell_type": "code",
   "execution_count": null,
   "metadata": {},
   "outputs": [],
   "source": [
    "#genres = dict()\n",
    "#with smart_open('genres.tsv', 'r') as f:\n",
    "#    for line in f:\n",
    "#        items = line.rstrip().split('\\t')\n",
    "#        movie_id = items[0]\n",
    "#        genres[movie_id] = set(items[1].split(','))"
   ]
  },
  {
   "cell_type": "code",
   "execution_count": null,
   "metadata": {
    "scrolled": true
   },
   "outputs": [],
   "source": [
    "#model = getModel('dbow:10:20')\n",
    "#dv = model.docvecs\n",
    "\n",
    "#classifiedDocs = [doc for doc in allDocs if doc.sentiment != 0]\n",
    "#for doc in classifiedDocs:\n",
    "#    same_movie = [d for d in classifiedDocs if d.movie_id == doc.movie_id]\n",
    "#    ds = [(dv.distance(doc.tags[0], d2.tags[0]), d2) for d2 in classifiedDocs]\n",
    "#    ds.sort(key=lambda p: p[0])\n",
    "#    five = ds[1:int(len(ds)/2)] # 5% without itself\n",
    "#    joint = [d for dist, d in five if d.sentiment == doc.sentiment]# if d.movie_id in genres and len(gs.intersection(genres[d.movie_id])) > 0\n",
    "#    print(len(joint) / len(five))\n",
    "    "
   ]
  },
  {
   "cell_type": "code",
   "execution_count": 29,
   "metadata": {},
   "outputs": [],
   "source": [
    "from random import shuffle\n",
    "import gzip\n",
    "\n",
    "def getAmazonReviews(filename):\n",
    "    with gzip.open(filename, 'rt') as g:\n",
    "        for l in g:\n",
    "            obj = eval(l)\n",
    "            if obj['overall'] >= 3.5:\n",
    "                sentiment = 1\n",
    "            elif obj['overall'] <= 2:\n",
    "                sentiment = -1\n",
    "            else:\n",
    "                continue\n",
    "            yield sentiment, list(tokenize(obj['reviewText']))\n",
    "\n",
    "def getBalancedSet(stream):\n",
    "    pos = list(islice(((s, d) for s, d in stream if s == 1), 100))\n",
    "    neg = list(islice(((s, d) for s, d in stream if s == -1), 100))\n",
    "    total = pos + neg\n",
    "    shuffle(total)\n",
    "    return total\n",
    "\n",
    "amazon = dict()\n",
    "amazon['home'] = getBalancedSet(getAmazonReviews('amazon/reviews.home.json.gz'))\n",
    "amazon['auto'] = getBalancedSet(getAmazonReviews('amazon/reviews.auto.json.gz'))\n",
    "amazon['movie'] = getBalancedSet(getAmazonReviews('amazon/reviews.movie.json.gz'))\n",
    "amazon['video'] = getBalancedSet(getAmazonReviews('amazon/reviews.instantvideo.json.gz'))\n",
    "amazon['music'] = getBalancedSet(getAmazonReviews('amazon/reviews.digitalmusic.json.gz'))\n",
    "amazon['clothings'] = getBalancedSet(getAmazonReviews('amazon/reviews.clothings.json.gz'))\n",
    "amazon['health'] = getBalancedSet(getAmazonReviews('amazon/reviews.health.json.gz'))\n",
    "amazon['sports'] = getBalancedSet(getAmazonReviews('amazon/reviews.sports.json.gz'))\n",
    "amazon['office'] = getBalancedSet(getAmazonReviews('amazon/reviews.office.json.gz'))\n",
    "amazon['garden'] = getBalancedSet(getAmazonReviews('amazon/reviews.garden.json.gz'))"
   ]
  },
  {
   "cell_type": "code",
   "execution_count": 45,
   "metadata": {
    "scrolled": true
   },
   "outputs": [
    {
     "name": "stdout",
     "output_type": "stream",
     "text": [
      "doc2vec accuracy: 0.855\n",
      "naive accuracy: 0.77\n",
      "doc2vec accuracy: 0.835\n",
      "naive accuracy: 0.76\n",
      "doc2vec accuracy: 0.835\n",
      "naive accuracy: 0.685\n",
      "doc2vec accuracy: 0.695\n",
      "naive accuracy: 0.69\n",
      "doc2vec accuracy: 0.65\n",
      "naive accuracy: 0.64\n",
      "doc2vec accuracy: 0.785\n",
      "naive accuracy: 0.665\n",
      "doc2vec accuracy: 0.76\n",
      "naive accuracy: 0.655\n",
      "doc2vec accuracy: 0.65\n",
      "naive accuracy: 0.59\n"
     ]
    }
   ],
   "source": [
    "# Cross Validation\n",
    "\n",
    "train2 = vc + rest\n",
    "train2_X, train2_y = splitV(train2)\n",
    "\n",
    "newSVM = Doc2VecSVM(getModel('dbow:12:20'))\n",
    "prevSVM = NaiveSVM(BagOfFrequency, {1}, 3)\n",
    "newSVM.fit(train2_X, train2_y)\n",
    "prevSVM.fit(train2_X, train2_y)\n",
    "\n",
    "def testAmazon(reviewList):\n",
    "    rev_y, rev_X = zip(*reviewList)\n",
    "    newP = newSVM.predict(rev_X)\n",
    "    prevP = prevSVM.predict(rev_X)\n",
    "    newR = yesOrNo(newP, rev_y)\n",
    "    prevR = yesOrNo(prevP, rev_y)\n",
    "    newA = np.mean(newR)\n",
    "    prevA = np.mean(prevR)\n",
    "    p = permTest(newR, prevR, 5000)\n",
    "    print('doc2vec accuracy: {}'.format(newA))\n",
    "    print('naive accuracy: {}'.format(prevA))\n",
    "    return newA, prevA, p\n",
    "\n",
    "ptypes = ['movie', 'video', 'music', 'clothings', 'garden', 'home', 'office', 'sports']\n",
    "\n",
    "docResults = dict()\n",
    "naiveResults = dict()\n",
    "pResults = dict()\n",
    "\n",
    "for pt in ptypes:\n",
    "    docResults[pt], naiveResults[pt], pResults[pt] = testAmazon(amazon[pt])"
   ]
  },
  {
   "cell_type": "code",
   "execution_count": 67,
   "metadata": {},
   "outputs": [
    {
     "data": {
      "image/png": "[encoded data removed]",
      "text/plain": [
       "<Figure size 432x288 with 1 Axes>"
      ]
     },
     "metadata": {
      "needs_background": "light"
     },
     "output_type": "display_data"
    }
   ],
   "source": [
    "%matplotlib inline\n",
    "\n",
    "import matplotlib.pyplot as plt\n",
    "\n",
    "docd = OrderedDict(sorted(docResults.items(), key=lambda p: p[1], reverse=True))\n",
    "naived = OrderedDict(sorted(naiveResults.items(), key=lambda p: p[1], reverse=True))\n",
    "\n",
    "x = [k for k in docd.keys() if pResults[k] <= 0.05]\n",
    "doc_y = [docd[k] for k in doc_x]\n",
    "naive_y = [naived[k] for k in doc_x]\n",
    "p_y = [pResults[k] for k in doc_x]\n",
    "plt.xlabel('Product Category')\n",
    "plt.ylabel('Accuracies')\n",
    "doc_l, = plt.plot(x, doc_y)\n",
    "naive_l, = plt.plot(x, naive_y)\n",
    "plt.legend([doc_l, naive_l], ['Doc2Vec', 'Bag Of Words'])\n",
    "plt.show()\n"
   ]
  },
  {
   "cell_type": "code",
   "execution_count": 66,
   "metadata": {},
   "outputs": [
    {
     "name": "stdout",
     "output_type": "stream",
     "text": [
      "movie & 85.5\\% & 77.0\\% & 0.0126 \\\\\n",
      "video & 83.5\\% & 76.0\\% & 0.0512 \\\\\n",
      "music & 83.5\\% & 68.5\\% & 0.0008 \\\\\n",
      "home & 78.5\\% & 66.5\\% & 0.0030 \\\\\n",
      "office & 76.0\\% & 65.5\\% & 0.0150 \\\\\n",
      "clothings & 69.5\\% & 69.0\\% & 1.0000 \\\\\n",
      "garden & 65.0\\% & 64.0\\% & 0.9004 \\\\\n",
      "sports & 65.0\\% & 59.0\\% & 0.2346 \\\\\n"
     ]
    }
   ],
   "source": [
    "for i in docd.keys():\n",
    "    print(\"{} & {:3.1f}\\% & {:3.1f}\\% & {:5.4f} \\\\\\\\\".format(i, docd[i]*100, naived[i]*100, pResults[i]))"
   ]
  }
 ],
 "metadata": {
  "kernelspec": {
   "display_name": "Python [conda env:nlp]",
   "language": "python",
   "name": "conda-env-nlp-py"
  },
  "language_info": {
   "codemirror_mode": {
    "name": "ipython",
    "version": 3
   },
   "file_extension": ".py",
   "mimetype": "text/x-python",
   "name": "python",
   "nbconvert_exporter": "python",
   "pygments_lexer": "ipython3",
   "version": "3.7.0"
  }
 },
 "nbformat": 4,
 "nbformat_minor": 2
}
